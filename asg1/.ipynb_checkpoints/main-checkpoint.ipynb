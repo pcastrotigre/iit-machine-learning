{
 "cells": [
  {
   "cell_type": "code",
   "execution_count": null,
   "metadata": {
    "collapsed": true
   },
   "outputs": [],
   "source": [
    "import matplotlib.pyplot as plt\n",
    "from sklearn import linear_model\n",
    "import tarfile\n",
    "import numpy as np "
   ]
  },
  {
   "cell_type": "code",
   "execution_count": null,
   "metadata": {
    "collapsed": true
   },
   "outputs": [],
   "source": [
    "# plot data set \n",
    "def show_and_save_data(filename, show_enable):\n",
    "    f1 = open(filename , 'r')\n",
    "    x = []\n",
    "    y = []\n",
    "    for line in f1:\n",
    "        if not line.startswith('#'):\n",
    "            row = line.split()\n",
    "            x.append([float(row[0])])\n",
    "            y.append([float(row[1])])\n",
    "    if show_enable:\n",
    "        plt.plot(x , y, 'bo')\n",
    "        plt.title(filename)\n",
    "        plt.show()  \n",
    "    return x , y"
   ]
  },
  {
   "cell_type": "code",
   "execution_count": null,
   "metadata": {
    "collapsed": false
   },
   "outputs": [],
   "source": [
    "#x, y = show_and_save_data('svar-set1.dat',1)\n",
    "x, y = show_and_save_data('svar-set2.dat',1)\n",
    "#x, y = show_and_save_data('svar-set3.dat',1)\n",
    "#x, y = show_and_save_data('svar-set4.dat',1)"
   ]
  },
  {
   "cell_type": "code",
   "execution_count": null,
   "metadata": {
    "collapsed": true
   },
   "outputs": [],
   "source": [
    "train_X = np.array(x[:-20])\n",
    "test_X = np.array(x[-20:])\n",
    "\n",
    "train_Y = np.array(y[:-20])\n",
    "test_Y = np.array(y[-20:])"
   ]
  },
  {
   "cell_type": "code",
   "execution_count": null,
   "metadata": {
    "collapsed": true
   },
   "outputs": [],
   "source": [
    "#using Python\n",
    "regr = linear_model.LinearRegression()\n",
    "regr.fit(train_X, train_Y)\n",
    "\n",
    "\n",
    "plt.scatter(test_X, test_Y,  color='black')\n",
    "plt.plot(test_X, regr.predict(test_X), color='blue',\n",
    "        linewidth=3)\n",
    "\n",
    "plt.xticks(())\n",
    "plt.yticks(())\n",
    "\n",
    "plt.show()"
   ]
  },
  {
   "cell_type": "code",
   "execution_count": null,
   "metadata": {
    "collapsed": true
   },
   "outputs": [],
   "source": [
    "from sklearn.linear_model import Ridge\n",
    "from sklearn.preprocessing import PolynomialFeatures\n",
    "from sklearn.pipeline import make_pipeline\n",
    "\n",
    "for degree in [3, 4, 5]:\n",
    "    model = make_pipeline(PolynomialFeatures(degree), Ridge())\n",
    "    model.fit(train_X, train_Y)\n",
    "    plt.scatter(test_X, test_Y,  color='black')\n",
    "    plt.plot(test_X, model.predict(test_X), label=\"degree %d\" % degree)\n",
    "\n",
    "plt.legend(loc='lower left')\n",
    "plt.xticks(())\n",
    "plt.yticks(())\n",
    "plt.show()"
   ]
  },
  {
   "cell_type": "code",
   "execution_count": null,
   "metadata": {
    "collapsed": true
   },
   "outputs": [],
   "source": []
  }
 ],
 "metadata": {
  "kernelspec": {
   "display_name": "Python 2",
   "language": "python",
   "name": "python2"
  },
  "language_info": {
   "codemirror_mode": {
    "name": "ipython",
    "version": 2
   },
   "file_extension": ".py",
   "mimetype": "text/x-python",
   "name": "python",
   "nbconvert_exporter": "python",
   "pygments_lexer": "ipython2",
   "version": "2.7.10"
  }
 },
 "nbformat": 4,
 "nbformat_minor": 0
}
